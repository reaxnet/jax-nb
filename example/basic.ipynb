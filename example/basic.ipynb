{
 "cells": [
  {
   "cell_type": "markdown",
   "metadata": {},
   "source": [
    "# Basic usage\n",
    "Example calculations of potential energy and forces of LiPON electrolyte."
   ]
  },
  {
   "cell_type": "code",
   "execution_count": null,
   "metadata": {},
   "outputs": [],
   "source": [
    "! pip install ase"
   ]
  },
  {
   "cell_type": "code",
   "execution_count": null,
   "metadata": {},
   "outputs": [],
   "source": [
    "from ase.io import read\n",
    "import numpy as np\n",
    "import jax\n",
    "import jax.numpy as jnp\n",
    "from jax_nb.jax_nb import pqeq_fori_loop, nonbond_potential, LAMBDA\n",
    "from jax_md import partition, space\n",
    "from jax_nb.parameters import pqeq_parameters\n",
    "from functools import partial"
   ]
  },
  {
   "cell_type": "markdown",
   "metadata": {},
   "source": [
    "## Read data\n",
    "We should convert numpy array to jax.numpy array. See difference between original numpy array and jax.numpy array in this [site](https://jax.readthedocs.io/en/latest/jax.numpy.html)."
   ]
  },
  {
   "cell_type": "code",
   "execution_count": null,
   "metadata": {},
   "outputs": [],
   "source": [
    "atoms = read('Li2PO2N.cif')\n",
    "positions = jnp.array(atoms.get_scaled_positions())\n",
    "symbols = atoms.get_chemical_symbols()\n",
    "cell = jnp.array(atoms.cell.array.T)"
   ]
  },
  {
   "cell_type": "markdown",
   "metadata": {},
   "source": [
    "## Define the displacement function"
   ]
  },
  {
   "cell_type": "code",
   "execution_count": null,
   "metadata": {},
   "outputs": [],
   "source": [
    "displacement_fn, _ = space.periodic_general(box=cell, fractional_coordinates=True)"
   ]
  },
  {
   "cell_type": "markdown",
   "metadata": {},
   "source": [
    "## Define the neighbor list function"
   ]
  },
  {
   "cell_type": "code",
   "execution_count": null,
   "metadata": {},
   "outputs": [],
   "source": [
    "neighbor_fn = partition.neighbor_list(displacement_fn,\n",
    "                                      box=cell,\n",
    "                                      r_cutoff=12.5,\n",
    "                                      format=partition.Sparse,\n",
    "                                      fractional_coordinates=True,\n",
    "                                      capacity_multiplier=2.0)\n"
   ]
  },
  {
   "cell_type": "markdown",
   "metadata": {},
   "source": [
    "## Load pqeq parameters"
   ]
  },
  {
   "cell_type": "code",
   "execution_count": null,
   "metadata": {},
   "outputs": [],
   "source": [
    "rad = jnp.array([pqeq_parameters[s]['rad'] for s in symbols])\n",
    "alpha = 0.5 * LAMBDA / rad / rad\n",
    "alpha = jnp.sqrt(alpha.reshape(-1,1) * alpha.reshape(1,-1) / (alpha.reshape(-1,1) + alpha.reshape(1,-1)))\n",
    "chi0 = jnp.array([pqeq_parameters[s]['chi0'] for s in symbols])\n",
    "eta0 = jnp.array([pqeq_parameters[s]['eta0'] for s in symbols])\n",
    "z = jnp.array([pqeq_parameters[s]['Z'] for s in symbols])\n",
    "Ks = jnp.array([pqeq_parameters[s]['Ks'] for s in symbols])"
   ]
  },
  {
   "cell_type": "markdown",
   "metadata": {},
   "source": [
    "## Define a loop function to solve partial charges"
   ]
  },
  {
   "cell_type": "code",
   "execution_count": null,
   "metadata": {},
   "outputs": [],
   "source": [
    "charges_fn = partial(pqeq_fori_loop, displacement_fn,\n",
    "                                     alpha=alpha, cutoff=12.5, iterations=2, net_charge=0.0,\n",
    "                                     eta0=eta0, chi0=chi0, z=z, Ks=Ks)\n"
   ]
  },
  {
   "cell_type": "markdown",
   "metadata": {},
   "source": [
    "## Define energy function"
   ]
  },
  {
   "cell_type": "code",
   "execution_count": null,
   "metadata": {},
   "outputs": [],
   "source": [
    "energy_fn_nb = partial(nonbond_potential, displacement_fn,\n",
    "                               # key args pqeq\n",
    "                      alpha=alpha, cutoff=12.5, eta0=eta0, chi0=chi0, z=z, Ks=Ks,\n",
    "                               # key args d3\n",
    "                      atomic_numbers=jnp.array(atoms.numbers), compute_d3=False, \n",
    "                      # PBE zero damping parameters\n",
    "                      d3_params={'s6': 1.0, 'rs6': 1.217, 's18': 0.722, 'rs18': 1.0, 'alp': 14.0},\n",
    "                      damping='zero', smooth_fn=None)\n"
   ]
  },
  {
   "cell_type": "code",
   "execution_count": null,
   "metadata": {},
   "outputs": [],
   "source": [
    "def energy_fn(positions, nbr,**displ_kwargs):\n",
    "    nbr = nbr.update(positions, **displ_kwargs)\n",
    "    charges, r_shell = charges_fn(jax.lax.stop_gradient(positions), nbr, **displ_kwargs)\n",
    "    pe_nb = energy_fn_nb(positions, nbr, r_shell, charges, **displ_kwargs)\n",
    "    return pe_nb, (charges, r_shell)\n"
   ]
  },
  {
   "cell_type": "markdown",
   "metadata": {},
   "source": [
    "## Jit for acceleration"
   ]
  },
  {
   "cell_type": "code",
   "execution_count": null,
   "metadata": {},
   "outputs": [],
   "source": [
    "nbr = neighbor_fn.allocate(positions)\n",
    "value_and_grad_fn = jax.jit(jax.value_and_grad(partial(energy_fn, nbr=nbr), argnums=0, has_aux=True))\n"
   ]
  },
  {
   "cell_type": "markdown",
   "metadata": {},
   "source": [
    "## Get results"
   ]
  },
  {
   "cell_type": "code",
   "execution_count": null,
   "metadata": {},
   "outputs": [],
   "source": [
    "results = value_and_grad_fn(positions, box=cell)"
   ]
  },
  {
   "cell_type": "code",
   "execution_count": null,
   "metadata": {},
   "outputs": [],
   "source": [
    "pe = np.asarray(results[0][0])\n",
    "forces = np.asarray(-results[1])\n",
    "charges = np.asarray(results[0][1][0])"
   ]
  }
 ],
 "metadata": {
  "kernelspec": {
   "display_name": "jax-nb",
   "language": "python",
   "name": "python3"
  },
  "language_info": {
   "codemirror_mode": {
    "name": "ipython",
    "version": 3
   },
   "file_extension": ".py",
   "mimetype": "text/x-python",
   "name": "python",
   "nbconvert_exporter": "python",
   "pygments_lexer": "ipython3",
   "version": "3.9.18"
  }
 },
 "nbformat": 4,
 "nbformat_minor": 2
}
